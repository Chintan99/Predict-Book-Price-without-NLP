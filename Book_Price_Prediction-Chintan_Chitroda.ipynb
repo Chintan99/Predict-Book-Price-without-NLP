{
 "cells": [
  {
   "cell_type": "markdown",
   "metadata": {},
   "source": [
    "# Book Price Prediction\n",
    "#### Chintan Chitroda"
   ]
  },
  {
   "cell_type": "markdown",
   "metadata": {},
   "source": [
    "Books are open doors to the unimagined worlds which is unique to every person. It is more than just a hobby for many. There are many among us who prefer to spend more time with books than anything else.\n",
    "\n",
    "Here we explore a big database of books. Books of different genres, from thousands of authors. In this Project, We are required to use this dataset to build a Machine Learning\n",
    "model to predict the price of books based on a given set of features below:"
   ]
  },
  {
   "cell_type": "markdown",
   "metadata": {},
   "source": [
    "# FEATURES:\n",
    "\n",
    "*  Title: The title of the book\n",
    "\n",
    "*  Author: The author(s) of the book.\n",
    "\n",
    "*  Edition: The edition of the book eg (Paperback,– Import, 26 Apr 2018)\n",
    "\n",
    "*  Reviews: The customer reviews about the book\n",
    "\n",
    "*  Ratings: The customer ratings of the book\n",
    "\n",
    "*  Synopsis: The synopsis of the book\n",
    "\n",
    "*  Genre: The genre the book belongs to\n",
    "\n",
    "*  BookCategory: The department the book is usually available at.\n",
    "\n",
    "*  Price: The price of the book (Target variable)"
   ]
  },
  {
   "cell_type": "markdown",
   "metadata": {},
   "source": [
    "### Note:\n",
    "##### In this Notebook many different algorithm and approaches are used to Predict the Price,  But the Final output file generated named ,\n",
    "##### But the Final output file generated named \"Predicted.csv\"  is generated using LightGBM."
   ]
  },
  {
   "cell_type": "markdown",
   "metadata": {},
   "source": [
    "### Import Packages and Dataset"
   ]
  },
  {
   "cell_type": "code",
   "execution_count": 1,
   "metadata": {
    "ExecuteTime": {
     "end_time": "2020-01-31T15:52:37.972050Z",
     "start_time": "2020-01-31T15:52:23.863020Z"
    }
   },
   "outputs": [],
   "source": [
    "import pandas as pd\n",
    "import numpy as np\n",
    "import matplotlib.pyplot as plt\n",
    "import seaborn as sns\n",
    "import warnings\n",
    "warnings.filterwarnings('ignore')"
   ]
  },
  {
   "cell_type": "code",
   "execution_count": 2,
   "metadata": {
    "ExecuteTime": {
     "end_time": "2020-01-31T15:52:38.090990Z",
     "start_time": "2020-01-31T15:52:37.974914Z"
    }
   },
   "outputs": [],
   "source": [
    "train = pd.read_csv('TrainDataset.csv')\n",
    "test = pd.read_csv(\"TestDataset.csv\")"
   ]
  },
  {
   "cell_type": "code",
   "execution_count": 3,
   "metadata": {
    "ExecuteTime": {
     "end_time": "2020-01-31T15:52:39.423943Z",
     "start_time": "2020-01-31T15:52:39.416938Z"
    }
   },
   "outputs": [
    {
     "name": "stdout",
     "output_type": "stream",
     "text": [
      "Train Dataset contain 4989 rows & 9 columns.\n",
      "Test Dataset contain 1248 rows & 8 columns.\n"
     ]
    }
   ],
   "source": [
    "print('Train Dataset contain',train.shape[0],'rows &',train.shape[1],'columns.')\n",
    "print('Test Dataset contain',test.shape[0],'rows &',test.shape[1],'columns.')"
   ]
  },
  {
   "cell_type": "code",
   "execution_count": 4,
   "metadata": {
    "ExecuteTime": {
     "end_time": "2020-01-31T15:52:39.808821Z",
     "start_time": "2020-01-31T15:52:39.776799Z"
    }
   },
   "outputs": [
    {
     "data": {
      "text/html": [
       "<div>\n",
       "<style scoped>\n",
       "    .dataframe tbody tr th:only-of-type {\n",
       "        vertical-align: middle;\n",
       "    }\n",
       "\n",
       "    .dataframe tbody tr th {\n",
       "        vertical-align: top;\n",
       "    }\n",
       "\n",
       "    .dataframe thead th {\n",
       "        text-align: right;\n",
       "    }\n",
       "</style>\n",
       "<table border=\"1\" class=\"dataframe\">\n",
       "  <thead>\n",
       "    <tr style=\"text-align: right;\">\n",
       "      <th></th>\n",
       "      <th>Title</th>\n",
       "      <th>Author</th>\n",
       "      <th>Edition</th>\n",
       "      <th>Reviews</th>\n",
       "      <th>Ratings</th>\n",
       "      <th>Synopsis</th>\n",
       "      <th>Genre</th>\n",
       "      <th>BookCategory</th>\n",
       "      <th>Price</th>\n",
       "    </tr>\n",
       "  </thead>\n",
       "  <tbody>\n",
       "    <tr>\n",
       "      <td>0</td>\n",
       "      <td>Geek Heresy</td>\n",
       "      <td>Kentaro Toyama</td>\n",
       "      <td>Hardcover,– 26 May 2015</td>\n",
       "      <td>5.0 out of 5 stars</td>\n",
       "      <td>3 customer reviews</td>\n",
       "      <td>After a decade designing technologies meant to...</td>\n",
       "      <td>Economic Policy &amp; Development</td>\n",
       "      <td>Computing, Internet &amp; Digital Media</td>\n",
       "      <td>799.0</td>\n",
       "    </tr>\n",
       "    <tr>\n",
       "      <td>1</td>\n",
       "      <td>Americanah</td>\n",
       "      <td>Chimamanda Ngozi Adichie</td>\n",
       "      <td>Paperback,– 25 Jul 2014</td>\n",
       "      <td>4.1 out of 5 stars</td>\n",
       "      <td>49 customer reviews</td>\n",
       "      <td>As teenagers in Lagos, Ifemelu and Obinze fall...</td>\n",
       "      <td>Romance (Books)</td>\n",
       "      <td>Romance</td>\n",
       "      <td>223.0</td>\n",
       "    </tr>\n",
       "    <tr>\n",
       "      <td>2</td>\n",
       "      <td>AWS Certified Solutions Architect Associate Al...</td>\n",
       "      <td>Joyjeet Banerjee</td>\n",
       "      <td>Paperback,– Audiobook, 10 Aug 2018</td>\n",
       "      <td>3.9 out of 5 stars</td>\n",
       "      <td>4 customer reviews</td>\n",
       "      <td>This effective study guide provides 100% cover...</td>\n",
       "      <td>Networks &amp; System Administration (Books)</td>\n",
       "      <td>Computing, Internet &amp; Digital Media</td>\n",
       "      <td>2677.0</td>\n",
       "    </tr>\n",
       "  </tbody>\n",
       "</table>\n",
       "</div>"
      ],
      "text/plain": [
       "                                               Title  \\\n",
       "0                                        Geek Heresy   \n",
       "1                                         Americanah   \n",
       "2  AWS Certified Solutions Architect Associate Al...   \n",
       "\n",
       "                     Author                             Edition  \\\n",
       "0            Kentaro Toyama             Hardcover,– 26 May 2015   \n",
       "1  Chimamanda Ngozi Adichie             Paperback,– 25 Jul 2014   \n",
       "2          Joyjeet Banerjee  Paperback,– Audiobook, 10 Aug 2018   \n",
       "\n",
       "              Reviews              Ratings  \\\n",
       "0  5.0 out of 5 stars   3 customer reviews   \n",
       "1  4.1 out of 5 stars  49 customer reviews   \n",
       "2  3.9 out of 5 stars   4 customer reviews   \n",
       "\n",
       "                                            Synopsis  \\\n",
       "0  After a decade designing technologies meant to...   \n",
       "1  As teenagers in Lagos, Ifemelu and Obinze fall...   \n",
       "2  This effective study guide provides 100% cover...   \n",
       "\n",
       "                                      Genre  \\\n",
       "0             Economic Policy & Development   \n",
       "1                           Romance (Books)   \n",
       "2  Networks & System Administration (Books)   \n",
       "\n",
       "                          BookCategory   Price  \n",
       "0  Computing, Internet & Digital Media   799.0  \n",
       "1                              Romance   223.0  \n",
       "2  Computing, Internet & Digital Media  2677.0  "
      ]
     },
     "execution_count": 4,
     "metadata": {},
     "output_type": "execute_result"
    }
   ],
   "source": [
    "train.head(3)"
   ]
  },
  {
   "cell_type": "code",
   "execution_count": 5,
   "metadata": {
    "ExecuteTime": {
     "end_time": "2020-01-31T15:52:40.744794Z",
     "start_time": "2020-01-31T15:52:40.733787Z"
    }
   },
   "outputs": [
    {
     "data": {
      "text/html": [
       "<div>\n",
       "<style scoped>\n",
       "    .dataframe tbody tr th:only-of-type {\n",
       "        vertical-align: middle;\n",
       "    }\n",
       "\n",
       "    .dataframe tbody tr th {\n",
       "        vertical-align: top;\n",
       "    }\n",
       "\n",
       "    .dataframe thead th {\n",
       "        text-align: right;\n",
       "    }\n",
       "</style>\n",
       "<table border=\"1\" class=\"dataframe\">\n",
       "  <thead>\n",
       "    <tr style=\"text-align: right;\">\n",
       "      <th></th>\n",
       "      <th>Title</th>\n",
       "      <th>Author</th>\n",
       "      <th>Edition</th>\n",
       "      <th>Reviews</th>\n",
       "      <th>Ratings</th>\n",
       "      <th>Synopsis</th>\n",
       "      <th>Genre</th>\n",
       "      <th>BookCategory</th>\n",
       "    </tr>\n",
       "  </thead>\n",
       "  <tbody>\n",
       "    <tr>\n",
       "      <td>0</td>\n",
       "      <td>When I Stop Talking, You'll Know I'm Dead</td>\n",
       "      <td>Jerry Weintraub</td>\n",
       "      <td>Paperback,– 23 Mar 2011</td>\n",
       "      <td>4.7 out of 5 stars</td>\n",
       "      <td>4 customer reviews</td>\n",
       "      <td>Here is the story of Jerry Weintraub: the self...</td>\n",
       "      <td>Cinema &amp; Broadcast (Books)</td>\n",
       "      <td>Humour</td>\n",
       "    </tr>\n",
       "    <tr>\n",
       "      <td>1</td>\n",
       "      <td>Alex Rider 11: Never Say Die</td>\n",
       "      <td>Anthony Horowitz</td>\n",
       "      <td>Paperback,– Jul 2018</td>\n",
       "      <td>4.5 out of 5 stars</td>\n",
       "      <td>17 customer reviews</td>\n",
       "      <td>Alex Rider is back in this brand new, explosiv...</td>\n",
       "      <td>Action &amp; Adventure (Books)</td>\n",
       "      <td>Action &amp; Adventure</td>\n",
       "    </tr>\n",
       "    <tr>\n",
       "      <td>2</td>\n",
       "      <td>A Legacy of Spies</td>\n",
       "      <td>John le Carré</td>\n",
       "      <td>Paperback,– 4 Oct 2017</td>\n",
       "      <td>4.1 out of 5 stars</td>\n",
       "      <td>29 customer reviews</td>\n",
       "      <td>Peter Guillam, staunch colleague and disciple ...</td>\n",
       "      <td>Action &amp; Adventure (Books)</td>\n",
       "      <td>Politics</td>\n",
       "    </tr>\n",
       "  </tbody>\n",
       "</table>\n",
       "</div>"
      ],
      "text/plain": [
       "                                       Title            Author  \\\n",
       "0  When I Stop Talking, You'll Know I'm Dead   Jerry Weintraub   \n",
       "1               Alex Rider 11: Never Say Die  Anthony Horowitz   \n",
       "2                          A Legacy of Spies     John le Carré   \n",
       "\n",
       "                   Edition             Reviews              Ratings  \\\n",
       "0  Paperback,– 23 Mar 2011  4.7 out of 5 stars   4 customer reviews   \n",
       "1     Paperback,– Jul 2018  4.5 out of 5 stars  17 customer reviews   \n",
       "2   Paperback,– 4 Oct 2017  4.1 out of 5 stars  29 customer reviews   \n",
       "\n",
       "                                            Synopsis  \\\n",
       "0  Here is the story of Jerry Weintraub: the self...   \n",
       "1  Alex Rider is back in this brand new, explosiv...   \n",
       "2  Peter Guillam, staunch colleague and disciple ...   \n",
       "\n",
       "                        Genre        BookCategory  \n",
       "0  Cinema & Broadcast (Books)              Humour  \n",
       "1  Action & Adventure (Books)  Action & Adventure  \n",
       "2  Action & Adventure (Books)            Politics  "
      ]
     },
     "execution_count": 5,
     "metadata": {},
     "output_type": "execute_result"
    }
   ],
   "source": [
    "test.head(3)"
   ]
  },
  {
   "cell_type": "code",
   "execution_count": 6,
   "metadata": {
    "ExecuteTime": {
     "end_time": "2020-01-31T15:52:41.933319Z",
     "start_time": "2020-01-31T15:52:41.464784Z"
    }
   },
   "outputs": [
    {
     "data": {
      "text/plain": [
       "<matplotlib.axes._subplots.AxesSubplot at 0xe918a39488>"
      ]
     },
     "execution_count": 6,
     "metadata": {},
     "output_type": "execute_result"
    },
    {
     "data": {
      "image/png": "[encoded data removed]",
      "text/plain": [
       "<Figure size 432x288 with 2 Axes>"
      ]
     },
     "metadata": {
      "needs_background": "light"
     },
     "output_type": "display_data"
    }
   ],
   "source": [
    "sns.heatmap(train.isnull())"
   ]
  },
  {
   "cell_type": "code",
   "execution_count": 7,
   "metadata": {
    "ExecuteTime": {
     "end_time": "2020-01-31T15:52:42.295003Z",
     "start_time": "2020-01-31T15:52:41.974347Z"
    }
   },
   "outputs": [
    {
     "data": {
      "text/plain": [
       "<matplotlib.axes._subplots.AxesSubplot at 0xe91ad2bb48>"
      ]
     },
     "execution_count": 7,
     "metadata": {},
     "output_type": "execute_result"
    },
    {
     "data": {
      "image/png": "[encoded data removed]",
      "text/plain": [
       "<Figure size 432x288 with 2 Axes>"
      ]
     },
     "metadata": {
      "needs_background": "light"
     },
     "output_type": "display_data"
    }
   ],
   "source": [
    "sns.heatmap(test.isnull())"
   ]
  },
  {
   "cell_type": "markdown",
   "metadata": {},
   "source": [
    "## NO null values in Datasets"
   ]
  },
  {
   "cell_type": "markdown",
   "metadata": {},
   "source": [
    "---------------------------------------------------------------------------------------------------"
   ]
  },
  {
   "cell_type": "markdown",
   "metadata": {},
   "source": [
    "## Data Wrangling"
   ]
  },
  {
   "cell_type": "code",
   "execution_count": 8,
   "metadata": {
    "ExecuteTime": {
     "end_time": "2020-01-31T15:52:43.709228Z",
     "start_time": "2020-01-31T15:52:43.705227Z"
    }
   },
   "outputs": [
    {
     "data": {
      "text/plain": [
       "Index(['Title', 'Author', 'Edition', 'Reviews', 'Ratings', 'Synopsis', 'Genre',\n",
       "       'BookCategory', 'Price'],\n",
       "      dtype='object')"
      ]
     },
     "execution_count": 8,
     "metadata": {},
     "output_type": "execute_result"
    }
   ],
   "source": [
    "train.columns"
   ]
  },
  {
   "cell_type": "code",
   "execution_count": 9,
   "metadata": {
    "ExecuteTime": {
     "end_time": "2020-01-31T15:52:43.972717Z",
     "start_time": "2020-01-31T15:52:43.967714Z"
    }
   },
   "outputs": [],
   "source": [
    "price = train.Price\n",
    "train.drop('Price',axis=1,inplace=True)"
   ]
  },
  {
   "cell_type": "code",
   "execution_count": 10,
   "metadata": {
    "ExecuteTime": {
     "end_time": "2020-01-31T15:52:44.237741Z",
     "start_time": "2020-01-31T15:52:44.233739Z"
    }
   },
   "outputs": [
    {
     "data": {
      "text/plain": [
       "Index(['Title', 'Author', 'Edition', 'Reviews', 'Ratings', 'Synopsis', 'Genre',\n",
       "       'BookCategory'],\n",
       "      dtype='object')"
      ]
     },
     "execution_count": 10,
     "metadata": {},
     "output_type": "execute_result"
    }
   ],
   "source": [
    "test.columns"
   ]
  },
  {
   "cell_type": "code",
   "execution_count": 11,
   "metadata": {
    "ExecuteTime": {
     "end_time": "2020-01-31T15:52:44.465257Z",
     "start_time": "2020-01-31T15:52:44.460255Z"
    }
   },
   "outputs": [],
   "source": [
    "joined = train.append(test)"
   ]
  },
  {
   "cell_type": "code",
   "execution_count": 12,
   "metadata": {
    "ExecuteTime": {
     "end_time": "2020-01-31T15:52:44.695006Z",
     "start_time": "2020-01-31T15:52:44.687003Z"
    }
   },
   "outputs": [],
   "source": [
    "### Cleaning Edition Columns\n",
    "list1 = []\n",
    "for i in list(joined.Edition):\n",
    "    list1.append(i.split(',')[0])"
   ]
  },
  {
   "cell_type": "code",
   "execution_count": 13,
   "metadata": {
    "ExecuteTime": {
     "end_time": "2020-01-31T15:52:44.914601Z",
     "start_time": "2020-01-31T15:52:44.911599Z"
    }
   },
   "outputs": [],
   "source": [
    "joined.Edition = list1"
   ]
  },
  {
   "cell_type": "code",
   "execution_count": 14,
   "metadata": {
    "ExecuteTime": {
     "end_time": "2020-01-31T15:52:45.125650Z",
     "start_time": "2020-01-31T15:52:45.116643Z"
    }
   },
   "outputs": [],
   "source": [
    "### Cleaning Reviews Columns\n",
    "list1 = []\n",
    "for i in joined.Reviews:\n",
    "    list1.append(i.split(\" \")[0])"
   ]
  },
  {
   "cell_type": "code",
   "execution_count": 15,
   "metadata": {
    "ExecuteTime": {
     "end_time": "2020-01-31T15:52:45.334729Z",
     "start_time": "2020-01-31T15:52:45.330726Z"
    }
   },
   "outputs": [],
   "source": [
    "joined.Reviews = list1"
   ]
  },
  {
   "cell_type": "code",
   "execution_count": 16,
   "metadata": {
    "ExecuteTime": {
     "end_time": "2020-01-31T15:52:45.547012Z",
     "start_time": "2020-01-31T15:52:45.540001Z"
    }
   },
   "outputs": [],
   "source": [
    "### Cleaning Ratings Columns\n",
    "list1=[]\n",
    "for i in joined.Ratings:\n",
    "    list1.append(i.split(\" \")[0])\n"
   ]
  },
  {
   "cell_type": "code",
   "execution_count": 17,
   "metadata": {
    "ExecuteTime": {
     "end_time": "2020-01-31T15:52:45.762927Z",
     "start_time": "2020-01-31T15:52:45.758924Z"
    }
   },
   "outputs": [],
   "source": [
    "joined.Ratings = list1"
   ]
  },
  {
   "cell_type": "markdown",
   "metadata": {
    "ExecuteTime": {
     "end_time": "2020-01-31T08:43:33.548196Z",
     "start_time": "2020-01-31T08:43:33.546195Z"
    }
   },
   "source": [
    "### One Hot Encoding AUTHOR,EDITION,GENRE,BOOKCATEGORY"
   ]
  },
  {
   "cell_type": "code",
   "execution_count": 18,
   "metadata": {
    "ExecuteTime": {
     "end_time": "2020-01-31T15:52:46.939621Z",
     "start_time": "2020-01-31T15:52:46.231660Z"
    }
   },
   "outputs": [],
   "source": [
    "from sklearn.preprocessing import LabelEncoder\n",
    "le = LabelEncoder()\n",
    "joined.Author = le.fit_transform(joined.Author)\n",
    "joined.Edition = le.fit_transform(joined.Edition)\n",
    "joined.Genre = le.fit_transform(joined.Genre)\n",
    "joined.BookCategory = le.fit_transform(joined.BookCategory)"
   ]
  },
  {
   "cell_type": "code",
   "execution_count": 19,
   "metadata": {
    "ExecuteTime": {
     "end_time": "2020-01-31T15:52:46.948631Z",
     "start_time": "2020-01-31T15:52:46.940625Z"
    }
   },
   "outputs": [],
   "source": [
    "## Dropping Synopsis and Title\n",
    "joined.drop('Synopsis',axis=1,inplace=True)\n",
    "joined.drop('Title',axis=1,inplace=True)"
   ]
  },
  {
   "cell_type": "code",
   "execution_count": 20,
   "metadata": {
    "ExecuteTime": {
     "end_time": "2020-01-31T15:52:47.480699Z",
     "start_time": "2020-01-31T15:52:47.470694Z"
    }
   },
   "outputs": [
    {
     "data": {
      "text/html": [
       "<div>\n",
       "<style scoped>\n",
       "    .dataframe tbody tr th:only-of-type {\n",
       "        vertical-align: middle;\n",
       "    }\n",
       "\n",
       "    .dataframe tbody tr th {\n",
       "        vertical-align: top;\n",
       "    }\n",
       "\n",
       "    .dataframe thead th {\n",
       "        text-align: right;\n",
       "    }\n",
       "</style>\n",
       "<table border=\"1\" class=\"dataframe\">\n",
       "  <thead>\n",
       "    <tr style=\"text-align: right;\">\n",
       "      <th></th>\n",
       "      <th>Author</th>\n",
       "      <th>Edition</th>\n",
       "      <th>Reviews</th>\n",
       "      <th>Ratings</th>\n",
       "      <th>Genre</th>\n",
       "      <th>BookCategory</th>\n",
       "    </tr>\n",
       "  </thead>\n",
       "  <tbody>\n",
       "    <tr>\n",
       "      <td>0</td>\n",
       "      <td>1799</td>\n",
       "      <td>7</td>\n",
       "      <td>5.0</td>\n",
       "      <td>3</td>\n",
       "      <td>109</td>\n",
       "      <td>4</td>\n",
       "    </tr>\n",
       "    <tr>\n",
       "      <td>1</td>\n",
       "      <td>601</td>\n",
       "      <td>12</td>\n",
       "      <td>4.1</td>\n",
       "      <td>49</td>\n",
       "      <td>282</td>\n",
       "      <td>9</td>\n",
       "    </tr>\n",
       "    <tr>\n",
       "      <td>2</td>\n",
       "      <td>1672</td>\n",
       "      <td>12</td>\n",
       "      <td>3.9</td>\n",
       "      <td>4</td>\n",
       "      <td>237</td>\n",
       "      <td>4</td>\n",
       "    </tr>\n",
       "    <tr>\n",
       "      <td>3</td>\n",
       "      <td>1585</td>\n",
       "      <td>12</td>\n",
       "      <td>4.9</td>\n",
       "      <td>14</td>\n",
       "      <td>205</td>\n",
       "      <td>7</td>\n",
       "    </tr>\n",
       "    <tr>\n",
       "      <td>4</td>\n",
       "      <td>1245</td>\n",
       "      <td>12</td>\n",
       "      <td>5.0</td>\n",
       "      <td>11</td>\n",
       "      <td>230</td>\n",
       "      <td>7</td>\n",
       "    </tr>\n",
       "  </tbody>\n",
       "</table>\n",
       "</div>"
      ],
      "text/plain": [
       "   Author  Edition Reviews Ratings  Genre  BookCategory\n",
       "0    1799        7     5.0       3    109             4\n",
       "1     601       12     4.1      49    282             9\n",
       "2    1672       12     3.9       4    237             4\n",
       "3    1585       12     4.9      14    205             7\n",
       "4    1245       12     5.0      11    230             7"
      ]
     },
     "execution_count": 20,
     "metadata": {},
     "output_type": "execute_result"
    }
   ],
   "source": [
    "joined.head()"
   ]
  },
  {
   "cell_type": "code",
   "execution_count": 21,
   "metadata": {
    "ExecuteTime": {
     "end_time": "2020-01-31T15:52:47.972406Z",
     "start_time": "2020-01-31T15:52:47.964402Z"
    }
   },
   "outputs": [
    {
     "name": "stdout",
     "output_type": "stream",
     "text": [
      "<class 'pandas.core.frame.DataFrame'>\n",
      "Int64Index: 6237 entries, 0 to 1247\n",
      "Data columns (total 6 columns):\n",
      "Author          6237 non-null int32\n",
      "Edition         6237 non-null int32\n",
      "Reviews         6237 non-null object\n",
      "Ratings         6237 non-null object\n",
      "Genre           6237 non-null int32\n",
      "BookCategory    6237 non-null int32\n",
      "dtypes: int32(4), object(2)\n",
      "memory usage: 243.6+ KB\n"
     ]
    }
   ],
   "source": [
    "joined.info()"
   ]
  },
  {
   "cell_type": "code",
   "execution_count": 22,
   "metadata": {
    "ExecuteTime": {
     "end_time": "2020-01-31T15:52:48.232623Z",
     "start_time": "2020-01-31T15:52:48.220616Z"
    }
   },
   "outputs": [],
   "source": [
    "### Convertings Obejects dtypes to int and float\n",
    "joined.Reviews = joined.Reviews.astype(float)\n",
    "joined.Ratings = joined.Ratings.astype(str)\n",
    "joined.Ratings = joined.Ratings.str.replace(',','')\n",
    "joined.Ratings = joined.Ratings.astype(int)"
   ]
  },
  {
   "cell_type": "markdown",
   "metadata": {},
   "source": [
    "### Divinding into original Test and Train"
   ]
  },
  {
   "cell_type": "code",
   "execution_count": 23,
   "metadata": {
    "ExecuteTime": {
     "end_time": "2020-01-31T15:52:48.768980Z",
     "start_time": "2020-01-31T15:52:48.762976Z"
    }
   },
   "outputs": [],
   "source": [
    "training = joined.iloc[:4989]\n",
    "training['Price'] = price\n",
    "testing = joined.iloc[4989:]"
   ]
  },
  {
   "cell_type": "markdown",
   "metadata": {},
   "source": [
    "## Some Data Visualization"
   ]
  },
  {
   "cell_type": "code",
   "execution_count": 24,
   "metadata": {
    "ExecuteTime": {
     "end_time": "2020-01-31T15:52:49.686047Z",
     "start_time": "2020-01-31T15:52:49.220740Z"
    }
   },
   "outputs": [
    {
     "data": {
      "text/plain": [
       "Text(0.5, 1.0, 'Correlation Heatmap of Featrues')"
      ]
     },
     "execution_count": 24,
     "metadata": {},
     "output_type": "execute_result"
    },
    {
     "data": {
      "image/png": "[encoded data removed]",
      "text/plain": [
       "<Figure size 720x720 with 2 Axes>"
      ]
     },
     "metadata": {
      "needs_background": "light"
     },
     "output_type": "display_data"
    }
   ],
   "source": [
    "plt.figure(figsize=(10,10))\n",
    "sns.heatmap(training.corr(),annot=True,square=True)\n",
    "plt.title('Correlation Heatmap of Featrues',size=25)"
   ]
  },
  {
   "cell_type": "code",
   "execution_count": 25,
   "metadata": {
    "ExecuteTime": {
     "end_time": "2020-01-31T15:52:49.924204Z",
     "start_time": "2020-01-31T15:52:49.688047Z"
    }
   },
   "outputs": [
    {
     "data": {
      "text/plain": [
       "<matplotlib.axes._subplots.AxesSubplot at 0xe91c354ec8>"
      ]
     },
     "execution_count": 25,
     "metadata": {},
     "output_type": "execute_result"
    },
    {
     "data": {
      "image/png": "[encoded data removed]",
      "text/plain": [
       "<Figure size 432x288 with 1 Axes>"
      ]
     },
     "metadata": {
      "needs_background": "light"
     },
     "output_type": "display_data"
    }
   ],
   "source": [
    "sns.scatterplot(training.Reviews,training.Price)"
   ]
  },
  {
   "cell_type": "code",
   "execution_count": 26,
   "metadata": {
    "ExecuteTime": {
     "end_time": "2020-01-31T15:52:50.575363Z",
     "start_time": "2020-01-31T15:52:50.320194Z"
    }
   },
   "outputs": [
    {
     "data": {
      "text/plain": [
       "<matplotlib.axes._subplots.AxesSubplot at 0xe91c10d0c8>"
      ]
     },
     "execution_count": 26,
     "metadata": {},
     "output_type": "execute_result"
    },
    {
     "data": {
      "image/png": "[encoded data removed]",
      "text/plain": [
       "<Figure size 432x288 with 1 Axes>"
      ]
     },
     "metadata": {
      "needs_background": "light"
     },
     "output_type": "display_data"
    }
   ],
   "source": [
    "sns.scatterplot(training.Ratings,training.Price)"
   ]
  },
  {
   "cell_type": "code",
   "execution_count": 27,
   "metadata": {
    "ExecuteTime": {
     "end_time": "2020-01-31T15:52:51.138736Z",
     "start_time": "2020-01-31T15:52:50.584369Z"
    }
   },
   "outputs": [
    {
     "data": {
      "text/plain": [
       "<matplotlib.axes._subplots.AxesSubplot at 0xe91c165e08>"
      ]
     },
     "execution_count": 27,
     "metadata": {},
     "output_type": "execute_result"
    },
    {
     "data": {
      "image/png": "[encoded data removed]",
      "text/plain": [
       "<Figure size 432x288 with 1 Axes>"
      ]
     },
     "metadata": {
      "needs_background": "light"
     },
     "output_type": "display_data"
    }
   ],
   "source": [
    "plt.title('Price Comparision with Reviews',size=20)\n",
    "sns.barplot(round(training.Reviews),training.Price)"
   ]
  },
  {
   "cell_type": "code",
   "execution_count": 28,
   "metadata": {
    "ExecuteTime": {
     "end_time": "2020-01-31T15:52:51.436933Z",
     "start_time": "2020-01-31T15:52:51.140738Z"
    }
   },
   "outputs": [
    {
     "data": {
      "text/plain": [
       "<matplotlib.axes._subplots.AxesSubplot at 0xe91c1d5808>"
      ]
     },
     "execution_count": 28,
     "metadata": {},
     "output_type": "execute_result"
    },
    {
     "data": {
      "image/png": "[encoded data removed]",
      "text/plain": [
       "<Figure size 432x288 with 1 Axes>"
      ]
     },
     "metadata": {
      "needs_background": "light"
     },
     "output_type": "display_data"
    }
   ],
   "source": [
    "plt.title('Price of 10 most rated Books')\n",
    "sns.barplot(training.Ratings.sort_values(ascending=False).head(11),training.Price)"
   ]
  },
  {
   "cell_type": "code",
   "execution_count": 29,
   "metadata": {
    "ExecuteTime": {
     "end_time": "2020-01-31T15:53:02.449855Z",
     "start_time": "2020-01-31T15:52:51.438934Z"
    }
   },
   "outputs": [
    {
     "data": {
      "text/plain": [
       "<BarContainer object of 4989 artists>"
      ]
     },
     "execution_count": 29,
     "metadata": {},
     "output_type": "execute_result"
    },
    {
     "data": {
      "image/png": "[encoded data removed]",
      "text/plain": [
       "<Figure size 432x288 with 1 Axes>"
      ]
     },
     "metadata": {
      "needs_background": "light"
     },
     "output_type": "display_data"
    }
   ],
   "source": [
    "plt.title('Price Comparision with Book Category',size=20)\n",
    "plt.barh(train.BookCategory,price)"
   ]
  },
  {
   "cell_type": "code",
   "execution_count": 30,
   "metadata": {
    "ExecuteTime": {
     "end_time": "2020-01-31T15:53:02.462864Z",
     "start_time": "2020-01-31T15:53:02.451857Z"
    }
   },
   "outputs": [
    {
     "data": {
      "text/html": [
       "<div>\n",
       "<style scoped>\n",
       "    .dataframe tbody tr th:only-of-type {\n",
       "        vertical-align: middle;\n",
       "    }\n",
       "\n",
       "    .dataframe tbody tr th {\n",
       "        vertical-align: top;\n",
       "    }\n",
       "\n",
       "    .dataframe thead th {\n",
       "        text-align: right;\n",
       "    }\n",
       "</style>\n",
       "<table border=\"1\" class=\"dataframe\">\n",
       "  <thead>\n",
       "    <tr style=\"text-align: right;\">\n",
       "      <th></th>\n",
       "      <th>Author</th>\n",
       "      <th>Edition</th>\n",
       "      <th>Reviews</th>\n",
       "      <th>Ratings</th>\n",
       "      <th>Genre</th>\n",
       "      <th>BookCategory</th>\n",
       "      <th>Price</th>\n",
       "    </tr>\n",
       "  </thead>\n",
       "  <tbody>\n",
       "    <tr>\n",
       "      <td>0</td>\n",
       "      <td>1799</td>\n",
       "      <td>7</td>\n",
       "      <td>5.0</td>\n",
       "      <td>3</td>\n",
       "      <td>109</td>\n",
       "      <td>4</td>\n",
       "      <td>799.0</td>\n",
       "    </tr>\n",
       "    <tr>\n",
       "      <td>1</td>\n",
       "      <td>601</td>\n",
       "      <td>12</td>\n",
       "      <td>4.1</td>\n",
       "      <td>49</td>\n",
       "      <td>282</td>\n",
       "      <td>9</td>\n",
       "      <td>223.0</td>\n",
       "    </tr>\n",
       "    <tr>\n",
       "      <td>2</td>\n",
       "      <td>1672</td>\n",
       "      <td>12</td>\n",
       "      <td>3.9</td>\n",
       "      <td>4</td>\n",
       "      <td>237</td>\n",
       "      <td>4</td>\n",
       "      <td>2677.0</td>\n",
       "    </tr>\n",
       "    <tr>\n",
       "      <td>3</td>\n",
       "      <td>1585</td>\n",
       "      <td>12</td>\n",
       "      <td>4.9</td>\n",
       "      <td>14</td>\n",
       "      <td>205</td>\n",
       "      <td>7</td>\n",
       "      <td>675.0</td>\n",
       "    </tr>\n",
       "    <tr>\n",
       "      <td>4</td>\n",
       "      <td>1245</td>\n",
       "      <td>12</td>\n",
       "      <td>5.0</td>\n",
       "      <td>11</td>\n",
       "      <td>230</td>\n",
       "      <td>7</td>\n",
       "      <td>204.0</td>\n",
       "    </tr>\n",
       "  </tbody>\n",
       "</table>\n",
       "</div>"
      ],
      "text/plain": [
       "   Author  Edition  Reviews  Ratings  Genre  BookCategory   Price\n",
       "0    1799        7      5.0        3    109             4   799.0\n",
       "1     601       12      4.1       49    282             9   223.0\n",
       "2    1672       12      3.9        4    237             4  2677.0\n",
       "3    1585       12      4.9       14    205             7   675.0\n",
       "4    1245       12      5.0       11    230             7   204.0"
      ]
     },
     "execution_count": 30,
     "metadata": {},
     "output_type": "execute_result"
    }
   ],
   "source": [
    "training.head()"
   ]
  },
  {
   "cell_type": "markdown",
   "metadata": {},
   "source": [
    "## ML Modeling"
   ]
  },
  {
   "cell_type": "code",
   "execution_count": 31,
   "metadata": {
    "ExecuteTime": {
     "end_time": "2020-01-31T15:53:06.318329Z",
     "start_time": "2020-01-31T15:53:02.464865Z"
    }
   },
   "outputs": [],
   "source": [
    "from sklearn.model_selection import train_test_split\n",
    "from sklearn.metrics import mean_squared_error\n",
    "from sklearn.metrics import r2_score\n",
    "import numpy as np\n",
    "from sklearn.metrics import mean_absolute_error\n",
    "import statsmodels.api as sm\n",
    "from sklearn.metrics import mean_squared_log_error"
   ]
  },
  {
   "cell_type": "code",
   "execution_count": 32,
   "metadata": {
    "ExecuteTime": {
     "end_time": "2020-01-31T15:53:06.330495Z",
     "start_time": "2020-01-31T15:53:06.321489Z"
    }
   },
   "outputs": [],
   "source": [
    "X = training.drop('Price',axis=1)\n",
    "y = training[['Price']]"
   ]
  },
  {
   "cell_type": "code",
   "execution_count": 33,
   "metadata": {
    "ExecuteTime": {
     "end_time": "2020-01-31T15:53:06.484417Z",
     "start_time": "2020-01-31T15:53:06.334498Z"
    }
   },
   "outputs": [],
   "source": [
    "X_train,X_test,y_train,y_test = train_test_split(X,y,train_size=.7,random_state=101)"
   ]
  },
  {
   "cell_type": "markdown",
   "metadata": {},
   "source": [
    "### XBGBoost"
   ]
  },
  {
   "cell_type": "code",
   "execution_count": 34,
   "metadata": {
    "ExecuteTime": {
     "end_time": "2020-01-31T15:53:09.906738Z",
     "start_time": "2020-01-31T15:53:09.684289Z"
    }
   },
   "outputs": [],
   "source": [
    "import xgboost as xgb\n",
    "model_xgb = xgb.XGBRegressor(max_depth=16, \n",
    "                             random_state =101,\n",
    "                             n_estimators=150,\n",
    "                            )"
   ]
  },
  {
   "cell_type": "code",
   "execution_count": 35,
   "metadata": {
    "ExecuteTime": {
     "end_time": "2020-01-31T15:53:11.736302Z",
     "start_time": "2020-01-31T15:53:10.055626Z"
    }
   },
   "outputs": [
    {
     "name": "stdout",
     "output_type": "stream",
     "text": [
      "[21:23:10] WARNING: C:/Jenkins/workspace/xgboost-win64_release_0.90/src/objective/regression_obj.cu:152: reg:linear is now deprecated in favor of reg:squarederror.\n"
     ]
    },
    {
     "data": {
      "text/plain": [
       "XGBRegressor(base_score=0.5, booster='gbtree', colsample_bylevel=1,\n",
       "             colsample_bynode=1, colsample_bytree=1, gamma=0,\n",
       "             importance_type='gain', learning_rate=0.1, max_delta_step=0,\n",
       "             max_depth=16, min_child_weight=1, missing=None, n_estimators=150,\n",
       "             n_jobs=1, nthread=None, objective='reg:linear', random_state=101,\n",
       "             reg_alpha=0, reg_lambda=1, scale_pos_weight=1, seed=None,\n",
       "             silent=None, subsample=1, verbosity=1)"
      ]
     },
     "execution_count": 35,
     "metadata": {},
     "output_type": "execute_result"
    }
   ],
   "source": [
    "model_xgb.fit(X_train,y_train)"
   ]
  },
  {
   "cell_type": "code",
   "execution_count": 36,
   "metadata": {
    "ExecuteTime": {
     "end_time": "2020-01-31T15:53:11.838370Z",
     "start_time": "2020-01-31T15:53:11.738304Z"
    }
   },
   "outputs": [],
   "source": [
    "y_pred = model_xgb.predict(X_test)"
   ]
  },
  {
   "cell_type": "code",
   "execution_count": 37,
   "metadata": {
    "ExecuteTime": {
     "end_time": "2020-01-31T15:53:11.845374Z",
     "start_time": "2020-01-31T15:53:11.839370Z"
    }
   },
   "outputs": [
    {
     "name": "stdout",
     "output_type": "stream",
     "text": [
      "RMSLE : 0.760124566106767\n"
     ]
    }
   ],
   "source": [
    "print('RMSLE :',(np.sqrt(mean_squared_log_error( y_test, abs(y_pred)))))"
   ]
  },
  {
   "cell_type": "markdown",
   "metadata": {},
   "source": [
    "## Using RFE"
   ]
  },
  {
   "cell_type": "code",
   "execution_count": 38,
   "metadata": {
    "ExecuteTime": {
     "end_time": "2020-01-31T15:53:12.824547Z",
     "start_time": "2020-01-31T15:53:12.008618Z"
    }
   },
   "outputs": [],
   "source": [
    "from sklearn.feature_selection import RFE"
   ]
  },
  {
   "cell_type": "code",
   "execution_count": 39,
   "metadata": {
    "ExecuteTime": {
     "end_time": "2020-01-31T15:53:22.515732Z",
     "start_time": "2020-01-31T15:53:12.827556Z"
    }
   },
   "outputs": [
    {
     "name": "stdout",
     "output_type": "stream",
     "text": [
      "[21:23:12] WARNING: C:/Jenkins/workspace/xgboost-win64_release_0.90/src/objective/regression_obj.cu:152: reg:linear is now deprecated in favor of reg:squarederror.\n",
      "[21:23:16] WARNING: C:/Jenkins/workspace/xgboost-win64_release_0.90/src/objective/regression_obj.cu:152: reg:linear is now deprecated in favor of reg:squarederror.\n",
      "[21:23:19] WARNING: C:/Jenkins/workspace/xgboost-win64_release_0.90/src/objective/regression_obj.cu:152: reg:linear is now deprecated in favor of reg:squarederror.\n",
      "[21:23:21] WARNING: C:/Jenkins/workspace/xgboost-win64_release_0.90/src/objective/regression_obj.cu:152: reg:linear is now deprecated in favor of reg:squarederror.\n"
     ]
    },
    {
     "data": {
      "text/plain": [
       "RFE(estimator=XGBRegressor(base_score=0.5, booster='gbtree',\n",
       "                           colsample_bylevel=1, colsample_bynode=1,\n",
       "                           colsample_bytree=1, gamma=0, importance_type='gain',\n",
       "                           learning_rate=0.1, max_delta_step=0, max_depth=16,\n",
       "                           min_child_weight=1, missing=None, n_estimators=150,\n",
       "                           n_jobs=1, nthread=None, objective='reg:linear',\n",
       "                           random_state=101, reg_alpha=0, reg_lambda=1,\n",
       "                           scale_pos_weight=1, seed=None, silent=None,\n",
       "                           subsample=1, verbosity=1),\n",
       "    n_features_to_select=3, step=1, verbose=0)"
      ]
     },
     "execution_count": 39,
     "metadata": {},
     "output_type": "execute_result"
    }
   ],
   "source": [
    "rfe = RFE(model_xgb, 3)\n",
    "rfe.fit(X_train,y_train)"
   ]
  },
  {
   "cell_type": "code",
   "execution_count": 40,
   "metadata": {
    "ExecuteTime": {
     "end_time": "2020-01-31T15:53:22.524737Z",
     "start_time": "2020-01-31T15:53:22.517732Z"
    }
   },
   "outputs": [
    {
     "data": {
      "text/plain": [
       "array([False,  True, False, False,  True,  True])"
      ]
     },
     "execution_count": 40,
     "metadata": {},
     "output_type": "execute_result"
    }
   ],
   "source": [
    "rfe.support_"
   ]
  },
  {
   "cell_type": "code",
   "execution_count": 41,
   "metadata": {
    "ExecuteTime": {
     "end_time": "2020-01-31T15:53:22.629807Z",
     "start_time": "2020-01-31T15:53:22.528741Z"
    }
   },
   "outputs": [
    {
     "name": "stdout",
     "output_type": "stream",
     "text": [
      "Index(['Edition', 'Genre', 'BookCategory'], dtype='object')\n"
     ]
    }
   ],
   "source": [
    "print(X_train.columns[rfe.support_])"
   ]
  },
  {
   "cell_type": "code",
   "execution_count": 42,
   "metadata": {
    "ExecuteTime": {
     "end_time": "2020-01-31T15:53:23.538445Z",
     "start_time": "2020-01-31T15:53:22.631808Z"
    }
   },
   "outputs": [
    {
     "name": "stdout",
     "output_type": "stream",
     "text": [
      "[21:23:22] WARNING: C:/Jenkins/workspace/xgboost-win64_release_0.90/src/objective/regression_obj.cu:152: reg:linear is now deprecated in favor of reg:squarederror.\n"
     ]
    }
   ],
   "source": [
    "Rcols = X_train.columns[rfe.support_]\n",
    "model_xgb.fit(X_train[Rcols],y_train)\n",
    "y_pred = model_xgb.predict(X_test[Rcols])"
   ]
  },
  {
   "cell_type": "code",
   "execution_count": 43,
   "metadata": {
    "ExecuteTime": {
     "end_time": "2020-01-31T15:53:23.546443Z",
     "start_time": "2020-01-31T15:53:23.539437Z"
    }
   },
   "outputs": [
    {
     "name": "stdout",
     "output_type": "stream",
     "text": [
      "RMSLE : 0.739711383394829\n"
     ]
    }
   ],
   "source": [
    "print('RMSLE :',(np.sqrt(mean_squared_log_error( abs(y_test),abs(y_pred)))))"
   ]
  },
  {
   "cell_type": "markdown",
   "metadata": {},
   "source": [
    "### Manul Elimination"
   ]
  },
  {
   "cell_type": "code",
   "execution_count": 44,
   "metadata": {
    "ExecuteTime": {
     "end_time": "2020-01-31T15:53:23.864582Z",
     "start_time": "2020-01-31T15:53:23.548443Z"
    }
   },
   "outputs": [
    {
     "name": "stdout",
     "output_type": "stream",
     "text": [
      "\u001b[1m\n",
      "                                 OLS Regression Results                                \n",
      "=======================================================================================\n",
      "Dep. Variable:                  Price   R-squared (uncentered):                   0.401\n",
      "Model:                            OLS   Adj. R-squared (uncentered):              0.400\n",
      "Method:                 Least Squares   F-statistic:                              556.4\n",
      "Date:                Fri, 31 Jan 2020   Prob (F-statistic):                        0.00\n",
      "Time:                        21:23:23   Log-Likelihood:                         -39792.\n",
      "No. Observations:                4989   AIC:                                  7.960e+04\n",
      "Df Residuals:                    4983   BIC:                                  7.964e+04\n",
      "Df Model:                           6                                                  \n",
      "Covariance Type:            nonrobust                                                  \n",
      "================================================================================\n",
      "                   coef    std err          t      P>|t|      [0.025      0.975]\n",
      "--------------------------------------------------------------------------------\n",
      "Author           0.0138      0.009      1.486      0.137      -0.004       0.032\n",
      "Edition        -36.9098      4.081     -9.043      0.000     -44.911     -28.908\n",
      "Reviews        208.0403     10.590     19.645      0.000     187.279     228.802\n",
      "Ratings         -0.3040      0.063     -4.829      0.000      -0.427      -0.181\n",
      "Genre            0.5697      0.106      5.376      0.000       0.362       0.778\n",
      "BookCategory    -3.3660      3.433     -0.981      0.327     -10.096       3.364\n",
      "==============================================================================\n",
      "Omnibus:                     6498.439   Durbin-Watson:                   2.008\n",
      "Prob(Omnibus):                  0.000   Jarque-Bera (JB):          1652516.020\n",
      "Skew:                           7.146   Prob(JB):                         0.00\n",
      "Kurtosis:                      91.008   Cond. No.                     2.34e+03\n",
      "==============================================================================\n",
      "\n",
      "Warnings:\n",
      "[1] Standard Errors assume that the covariance matrix of the errors is correctly specified.\n",
      "[2] The condition number is large, 2.34e+03. This might indicate that there are\n",
      "strong multicollinearity or other numerical problems.\n"
     ]
    }
   ],
   "source": [
    "model = sm.OLS(y, X)\n",
    "results = model.fit()\n",
    "start = \"\\033[1m\" ### for bold text\n",
    "print(start)\n",
    "print(results.summary())"
   ]
  },
  {
   "cell_type": "markdown",
   "metadata": {},
   "source": [
    "## Random Forest Regressor"
   ]
  },
  {
   "cell_type": "code",
   "execution_count": 45,
   "metadata": {
    "ExecuteTime": {
     "end_time": "2020-01-31T15:53:24.294614Z",
     "start_time": "2020-01-31T15:53:23.867584Z"
    }
   },
   "outputs": [],
   "source": [
    "from sklearn.ensemble import RandomForestRegressor\n",
    "rf = RandomForestRegressor(random_state = 101,n_estimators = 50)"
   ]
  },
  {
   "cell_type": "code",
   "execution_count": 46,
   "metadata": {
    "ExecuteTime": {
     "end_time": "2020-01-31T15:53:24.859985Z",
     "start_time": "2020-01-31T15:53:24.298612Z"
    }
   },
   "outputs": [
    {
     "data": {
      "text/plain": [
       "RandomForestRegressor(bootstrap=True, criterion='mse', max_depth=None,\n",
       "                      max_features='auto', max_leaf_nodes=None,\n",
       "                      min_impurity_decrease=0.0, min_impurity_split=None,\n",
       "                      min_samples_leaf=1, min_samples_split=2,\n",
       "                      min_weight_fraction_leaf=0.0, n_estimators=50,\n",
       "                      n_jobs=None, oob_score=False, random_state=101, verbose=0,\n",
       "                      warm_start=False)"
      ]
     },
     "execution_count": 46,
     "metadata": {},
     "output_type": "execute_result"
    }
   ],
   "source": [
    "rf.fit(X_train,y_train)"
   ]
  },
  {
   "cell_type": "code",
   "execution_count": 47,
   "metadata": {
    "ExecuteTime": {
     "end_time": "2020-01-31T15:53:24.887002Z",
     "start_time": "2020-01-31T15:53:24.861983Z"
    }
   },
   "outputs": [],
   "source": [
    "y_pred = rf.predict(X_test)"
   ]
  },
  {
   "cell_type": "code",
   "execution_count": 48,
   "metadata": {
    "ExecuteTime": {
     "end_time": "2020-01-31T15:53:24.971056Z",
     "start_time": "2020-01-31T15:53:24.888001Z"
    }
   },
   "outputs": [
    {
     "name": "stdout",
     "output_type": "stream",
     "text": [
      "RMSLE : 0.7121154946351049\n"
     ]
    }
   ],
   "source": [
    "print('RMSLE :',(np.sqrt(mean_squared_log_error( abs(y_test),abs(y_pred)))))"
   ]
  },
  {
   "cell_type": "markdown",
   "metadata": {},
   "source": [
    "## Use RFE"
   ]
  },
  {
   "cell_type": "code",
   "execution_count": 49,
   "metadata": {
    "ExecuteTime": {
     "end_time": "2020-01-31T15:53:27.653894Z",
     "start_time": "2020-01-31T15:53:24.973058Z"
    }
   },
   "outputs": [
    {
     "name": "stdout",
     "output_type": "stream",
     "text": [
      "Index(['Author', 'Genre'], dtype='object')\n"
     ]
    }
   ],
   "source": [
    "rfe = RFE(rf, 2)\n",
    "rfe.fit(X_train,y_train)\n",
    "rfe.support_\n",
    "print(X_train.columns[rfe.support_])\n",
    "\n",
    "Rcols = X_train.columns[rfe.support_]\n",
    "rf.fit(X_train[Rcols],y_train)\n",
    "y_pred = rf.predict(X_test[Rcols])"
   ]
  },
  {
   "cell_type": "code",
   "execution_count": 50,
   "metadata": {
    "ExecuteTime": {
     "end_time": "2020-01-31T15:53:27.660891Z",
     "start_time": "2020-01-31T15:53:27.654888Z"
    }
   },
   "outputs": [
    {
     "name": "stdout",
     "output_type": "stream",
     "text": [
      "RMSLE : 0.745446705919077\n"
     ]
    }
   ],
   "source": [
    "print('RMSLE :',(np.sqrt(mean_squared_log_error( abs(y_test),abs(y_pred)))))"
   ]
  },
  {
   "cell_type": "markdown",
   "metadata": {},
   "source": [
    "### Manual Approach\n",
    "* Dropping cols with P<0.05"
   ]
  },
  {
   "cell_type": "code",
   "execution_count": 51,
   "metadata": {
    "ExecuteTime": {
     "end_time": "2020-01-31T15:53:27.775117Z",
     "start_time": "2020-01-31T15:53:27.663893Z"
    }
   },
   "outputs": [
    {
     "data": {
      "text/plain": [
       "Index(['Author', 'Edition', 'Reviews', 'Ratings', 'Genre', 'BookCategory',\n",
       "       'Price'],\n",
       "      dtype='object')"
      ]
     },
     "execution_count": 51,
     "metadata": {},
     "output_type": "execute_result"
    }
   ],
   "source": [
    "training.columns"
   ]
  },
  {
   "cell_type": "code",
   "execution_count": 52,
   "metadata": {
    "ExecuteTime": {
     "end_time": "2020-01-31T15:53:27.870671Z",
     "start_time": "2020-01-31T15:53:27.778117Z"
    }
   },
   "outputs": [],
   "source": [
    "tt = ['Edition', 'Reviews', 'Ratings', 'Genre']"
   ]
  },
  {
   "cell_type": "code",
   "execution_count": 53,
   "metadata": {
    "ExecuteTime": {
     "end_time": "2020-01-31T15:53:28.360062Z",
     "start_time": "2020-01-31T15:53:27.871665Z"
    }
   },
   "outputs": [],
   "source": [
    "rf.fit(X_train[tt],y_train)\n",
    "y_pred = rf.predict(X_test[tt])"
   ]
  },
  {
   "cell_type": "code",
   "execution_count": 54,
   "metadata": {
    "ExecuteTime": {
     "end_time": "2020-01-31T15:53:28.370069Z",
     "start_time": "2020-01-31T15:53:28.362063Z"
    }
   },
   "outputs": [
    {
     "name": "stdout",
     "output_type": "stream",
     "text": [
      "RMSLE : 0.734491301902482\n"
     ]
    }
   ],
   "source": [
    "print('RMSLE :',(np.sqrt(mean_squared_log_error(y_test,abs(y_pred)))))"
   ]
  },
  {
   "cell_type": "markdown",
   "metadata": {},
   "source": [
    "## Using SVR"
   ]
  },
  {
   "cell_type": "code",
   "execution_count": 55,
   "metadata": {
    "ExecuteTime": {
     "end_time": "2020-01-31T15:53:28.473928Z",
     "start_time": "2020-01-31T15:53:28.371070Z"
    }
   },
   "outputs": [],
   "source": [
    "from sklearn.svm import SVR"
   ]
  },
  {
   "cell_type": "code",
   "execution_count": 56,
   "metadata": {
    "ExecuteTime": {
     "end_time": "2020-01-31T15:53:29.525193Z",
     "start_time": "2020-01-31T15:53:28.474922Z"
    }
   },
   "outputs": [
    {
     "data": {
      "text/plain": [
       "SVR(C=1.0, cache_size=200, coef0=0.0, degree=3, epsilon=0.2,\n",
       "    gamma='auto_deprecated', kernel='rbf', max_iter=-1, shrinking=True,\n",
       "    tol=0.001, verbose=False)"
      ]
     },
     "execution_count": 56,
     "metadata": {},
     "output_type": "execute_result"
    }
   ],
   "source": [
    "clf = SVR(C=1.0, epsilon=0.2)\n",
    "clf.fit(X_train, y_train)"
   ]
  },
  {
   "cell_type": "code",
   "execution_count": 57,
   "metadata": {
    "ExecuteTime": {
     "end_time": "2020-01-31T15:53:29.842403Z",
     "start_time": "2020-01-31T15:53:29.527195Z"
    }
   },
   "outputs": [],
   "source": [
    "y_predsvr = clf.predict(X_test)"
   ]
  },
  {
   "cell_type": "code",
   "execution_count": 58,
   "metadata": {
    "ExecuteTime": {
     "end_time": "2020-01-31T15:53:29.850409Z",
     "start_time": "2020-01-31T15:53:29.844403Z"
    }
   },
   "outputs": [
    {
     "name": "stdout",
     "output_type": "stream",
     "text": [
      "RMSLE for SVR : 0.7727635379591464\n"
     ]
    }
   ],
   "source": [
    "print('RMSLE for SVR :',(np.sqrt(mean_squared_log_error( y_test, y_predsvr))))"
   ]
  },
  {
   "cell_type": "markdown",
   "metadata": {},
   "source": [
    "## Using LIGHT GBM"
   ]
  },
  {
   "cell_type": "code",
   "execution_count": 59,
   "metadata": {
    "ExecuteTime": {
     "end_time": "2020-01-31T15:53:30.132165Z",
     "start_time": "2020-01-31T15:53:29.852410Z"
    }
   },
   "outputs": [],
   "source": [
    "import lightgbm as lgb"
   ]
  },
  {
   "cell_type": "code",
   "execution_count": 60,
   "metadata": {
    "ExecuteTime": {
     "end_time": "2020-01-31T15:53:30.141170Z",
     "start_time": "2020-01-31T15:53:30.135166Z"
    }
   },
   "outputs": [],
   "source": [
    "X=training.drop('Price',axis=1)\n",
    "y=training[['Price']].values"
   ]
  },
  {
   "cell_type": "code",
   "execution_count": 61,
   "metadata": {
    "ExecuteTime": {
     "end_time": "2020-01-31T15:53:30.253627Z",
     "start_time": "2020-01-31T15:53:30.143171Z"
    }
   },
   "outputs": [],
   "source": [
    "X_train,X_test,y_train,y_test = train_test_split(X,y,train_size=.7,random_state=101)"
   ]
  },
  {
   "cell_type": "code",
   "execution_count": 62,
   "metadata": {
    "ExecuteTime": {
     "end_time": "2020-01-31T15:53:30.351149Z",
     "start_time": "2020-01-31T15:53:30.254621Z"
    }
   },
   "outputs": [],
   "source": [
    "y_train = y_train.ravel()"
   ]
  },
  {
   "cell_type": "code",
   "execution_count": 63,
   "metadata": {
    "ExecuteTime": {
     "end_time": "2020-01-31T15:53:30.984563Z",
     "start_time": "2020-01-31T15:53:30.352150Z"
    }
   },
   "outputs": [
    {
     "data": {
      "text/plain": [
       "LGBMRegressor(boosting_type='gbdt', class_weight=None, colsample_bytree=1.0,\n",
       "              learning_rate=0.1, max_depth=-1, min_child_samples=20,\n",
       "              min_child_weight=0.001, min_split_gain=0.0, n_estimators=600,\n",
       "              n_jobs=-1, num_leaves=31, objective=None, random_state=10,\n",
       "              reg_alpha=0.0, reg_lambda=0.0, silent=True, subsample=1.0,\n",
       "              subsample_for_bin=200000, subsample_freq=1)"
      ]
     },
     "execution_count": 63,
     "metadata": {},
     "output_type": "execute_result"
    }
   ],
   "source": [
    "model = lgb.LGBMRegressor(n_estimators=600,random_state=10)\n",
    "model.fit(X_train, y_train)"
   ]
  },
  {
   "cell_type": "code",
   "execution_count": 64,
   "metadata": {
    "ExecuteTime": {
     "end_time": "2020-01-31T15:53:31.089632Z",
     "start_time": "2020-01-31T15:53:30.985563Z"
    }
   },
   "outputs": [],
   "source": [
    "y_pred = model.predict(X_test)"
   ]
  },
  {
   "cell_type": "code",
   "execution_count": 65,
   "metadata": {
    "ExecuteTime": {
     "end_time": "2020-01-31T15:53:31.111647Z",
     "start_time": "2020-01-31T15:53:31.090633Z"
    }
   },
   "outputs": [
    {
     "name": "stdout",
     "output_type": "stream",
     "text": [
      "RMSLE for Light GBM: 0.9070474494875347\n"
     ]
    }
   ],
   "source": [
    "print('RMSLE for Light GBM:',(np.sqrt(mean_squared_log_error( y_test,abs(y_pred)))))"
   ]
  },
  {
   "cell_type": "code",
   "execution_count": 66,
   "metadata": {
    "ExecuteTime": {
     "end_time": "2020-01-31T15:53:31.427856Z",
     "start_time": "2020-01-31T15:53:31.112647Z"
    }
   },
   "outputs": [
    {
     "data": {
      "image/png": "[encoded data removed]",
      "text/plain": [
       "<Figure size 720x720 with 1 Axes>"
      ]
     },
     "metadata": {
      "needs_background": "light"
     },
     "output_type": "display_data"
    }
   ],
   "source": [
    "fig, ax = plt.subplots(figsize=(10,10))\n",
    "lgb.plot_importance(model, height=0.8, ax=ax)\n",
    "ax.grid(False)\n",
    "plt.title(\"LightGBM - Feature Importance\", fontsize=15)\n",
    "plt.show()"
   ]
  },
  {
   "cell_type": "markdown",
   "metadata": {},
   "source": [
    "## We see that the Author, Genre and Ratings plays an important role in Price of Book."
   ]
  },
  {
   "cell_type": "markdown",
   "metadata": {},
   "source": [
    "###### As we are getting the Best RMSLE Score from LightGBM algorithm we predict test file with LightGBM."
   ]
  },
  {
   "cell_type": "code",
   "execution_count": 67,
   "metadata": {
    "ExecuteTime": {
     "end_time": "2020-01-31T15:53:33.418522Z",
     "start_time": "2020-01-31T15:53:33.340469Z"
    }
   },
   "outputs": [],
   "source": [
    "sol = model.predict(testing)"
   ]
  },
  {
   "cell_type": "code",
   "execution_count": 68,
   "metadata": {
    "ExecuteTime": {
     "end_time": "2020-01-31T15:53:33.639666Z",
     "start_time": "2020-01-31T15:53:33.635666Z"
    }
   },
   "outputs": [],
   "source": [
    "solution = pd.DataFrame(abs(sol),columns={'Price'})"
   ]
  },
  {
   "cell_type": "code",
   "execution_count": 69,
   "metadata": {
    "ExecuteTime": {
     "end_time": "2020-01-31T15:53:33.990898Z",
     "start_time": "2020-01-31T15:53:33.983894Z"
    }
   },
   "outputs": [
    {
     "data": {
      "text/html": [
       "<div>\n",
       "<style scoped>\n",
       "    .dataframe tbody tr th:only-of-type {\n",
       "        vertical-align: middle;\n",
       "    }\n",
       "\n",
       "    .dataframe tbody tr th {\n",
       "        vertical-align: top;\n",
       "    }\n",
       "\n",
       "    .dataframe thead th {\n",
       "        text-align: right;\n",
       "    }\n",
       "</style>\n",
       "<table border=\"1\" class=\"dataframe\">\n",
       "  <thead>\n",
       "    <tr style=\"text-align: right;\">\n",
       "      <th></th>\n",
       "      <th>Price</th>\n",
       "    </tr>\n",
       "  </thead>\n",
       "  <tbody>\n",
       "    <tr>\n",
       "      <td>0</td>\n",
       "      <td>722.122784</td>\n",
       "    </tr>\n",
       "    <tr>\n",
       "      <td>1</td>\n",
       "      <td>452.056867</td>\n",
       "    </tr>\n",
       "    <tr>\n",
       "      <td>2</td>\n",
       "      <td>245.324959</td>\n",
       "    </tr>\n",
       "    <tr>\n",
       "      <td>3</td>\n",
       "      <td>348.231036</td>\n",
       "    </tr>\n",
       "    <tr>\n",
       "      <td>4</td>\n",
       "      <td>191.579503</td>\n",
       "    </tr>\n",
       "  </tbody>\n",
       "</table>\n",
       "</div>"
      ],
      "text/plain": [
       "        Price\n",
       "0  722.122784\n",
       "1  452.056867\n",
       "2  245.324959\n",
       "3  348.231036\n",
       "4  191.579503"
      ]
     },
     "execution_count": 69,
     "metadata": {},
     "output_type": "execute_result"
    }
   ],
   "source": [
    "solution.head()"
   ]
  },
  {
   "cell_type": "code",
   "execution_count": 70,
   "metadata": {
    "ExecuteTime": {
     "end_time": "2020-01-31T15:53:34.581031Z",
     "start_time": "2020-01-31T15:53:34.554011Z"
    }
   },
   "outputs": [],
   "source": [
    "solution.to_csv('Predicted.csv',index=False)"
   ]
  },
  {
   "cell_type": "code",
   "execution_count": 71,
   "metadata": {
    "ExecuteTime": {
     "end_time": "2020-01-31T15:53:35.347048Z",
     "start_time": "2020-01-31T15:53:35.344046Z"
    }
   },
   "outputs": [],
   "source": [
    "test['Price'] = solution.Price"
   ]
  },
  {
   "cell_type": "code",
   "execution_count": 72,
   "metadata": {
    "ExecuteTime": {
     "end_time": "2020-01-31T15:53:39.358983Z",
     "start_time": "2020-01-31T15:53:39.345976Z"
    }
   },
   "outputs": [
    {
     "data": {
      "text/html": [
       "<div>\n",
       "<style scoped>\n",
       "    .dataframe tbody tr th:only-of-type {\n",
       "        vertical-align: middle;\n",
       "    }\n",
       "\n",
       "    .dataframe tbody tr th {\n",
       "        vertical-align: top;\n",
       "    }\n",
       "\n",
       "    .dataframe thead th {\n",
       "        text-align: right;\n",
       "    }\n",
       "</style>\n",
       "<table border=\"1\" class=\"dataframe\">\n",
       "  <thead>\n",
       "    <tr style=\"text-align: right;\">\n",
       "      <th></th>\n",
       "      <th>Title</th>\n",
       "      <th>Author</th>\n",
       "      <th>Edition</th>\n",
       "      <th>Reviews</th>\n",
       "      <th>Ratings</th>\n",
       "      <th>Synopsis</th>\n",
       "      <th>Genre</th>\n",
       "      <th>BookCategory</th>\n",
       "      <th>Price</th>\n",
       "    </tr>\n",
       "  </thead>\n",
       "  <tbody>\n",
       "    <tr>\n",
       "      <td>0</td>\n",
       "      <td>When I Stop Talking, You'll Know I'm Dead</td>\n",
       "      <td>Jerry Weintraub</td>\n",
       "      <td>Paperback,– 23 Mar 2011</td>\n",
       "      <td>4.7 out of 5 stars</td>\n",
       "      <td>4 customer reviews</td>\n",
       "      <td>Here is the story of Jerry Weintraub: the self...</td>\n",
       "      <td>Cinema &amp; Broadcast (Books)</td>\n",
       "      <td>Humour</td>\n",
       "      <td>722.122784</td>\n",
       "    </tr>\n",
       "    <tr>\n",
       "      <td>1</td>\n",
       "      <td>Alex Rider 11: Never Say Die</td>\n",
       "      <td>Anthony Horowitz</td>\n",
       "      <td>Paperback,– Jul 2018</td>\n",
       "      <td>4.5 out of 5 stars</td>\n",
       "      <td>17 customer reviews</td>\n",
       "      <td>Alex Rider is back in this brand new, explosiv...</td>\n",
       "      <td>Action &amp; Adventure (Books)</td>\n",
       "      <td>Action &amp; Adventure</td>\n",
       "      <td>452.056867</td>\n",
       "    </tr>\n",
       "    <tr>\n",
       "      <td>2</td>\n",
       "      <td>A Legacy of Spies</td>\n",
       "      <td>John le Carré</td>\n",
       "      <td>Paperback,– 4 Oct 2017</td>\n",
       "      <td>4.1 out of 5 stars</td>\n",
       "      <td>29 customer reviews</td>\n",
       "      <td>Peter Guillam, staunch colleague and disciple ...</td>\n",
       "      <td>Action &amp; Adventure (Books)</td>\n",
       "      <td>Politics</td>\n",
       "      <td>245.324959</td>\n",
       "    </tr>\n",
       "    <tr>\n",
       "      <td>3</td>\n",
       "      <td>Dark Places</td>\n",
       "      <td>Gillian Flynn</td>\n",
       "      <td>Paperback,– 10 Jun 2010</td>\n",
       "      <td>4.1 out of 5 stars</td>\n",
       "      <td>62 customer reviews</td>\n",
       "      <td>Your brother murdered your family. Your eviden...</td>\n",
       "      <td>Crime, Thriller &amp; Mystery (Books)</td>\n",
       "      <td>Crime, Thriller &amp; Mystery</td>\n",
       "      <td>348.231036</td>\n",
       "    </tr>\n",
       "    <tr>\n",
       "      <td>4</td>\n",
       "      <td>A Pelican Introduction: The Human Planet: How ...</td>\n",
       "      <td>Simon Lewis</td>\n",
       "      <td>Mass Market Paperback,– Import, 24 Jul 2018</td>\n",
       "      <td>3.0 out of 5 stars</td>\n",
       "      <td>1 customer review</td>\n",
       "      <td>'Brilliantly written and genuinely one of the ...</td>\n",
       "      <td>Earth Sciences Textbooks</td>\n",
       "      <td>Crime, Thriller &amp; Mystery</td>\n",
       "      <td>191.579503</td>\n",
       "    </tr>\n",
       "  </tbody>\n",
       "</table>\n",
       "</div>"
      ],
      "text/plain": [
       "                                               Title            Author  \\\n",
       "0          When I Stop Talking, You'll Know I'm Dead   Jerry Weintraub   \n",
       "1                       Alex Rider 11: Never Say Die  Anthony Horowitz   \n",
       "2                                  A Legacy of Spies     John le Carré   \n",
       "3                                        Dark Places     Gillian Flynn   \n",
       "4  A Pelican Introduction: The Human Planet: How ...       Simon Lewis   \n",
       "\n",
       "                                       Edition             Reviews  \\\n",
       "0                      Paperback,– 23 Mar 2011  4.7 out of 5 stars   \n",
       "1                         Paperback,– Jul 2018  4.5 out of 5 stars   \n",
       "2                       Paperback,– 4 Oct 2017  4.1 out of 5 stars   \n",
       "3                      Paperback,– 10 Jun 2010  4.1 out of 5 stars   \n",
       "4  Mass Market Paperback,– Import, 24 Jul 2018  3.0 out of 5 stars   \n",
       "\n",
       "               Ratings                                           Synopsis  \\\n",
       "0   4 customer reviews  Here is the story of Jerry Weintraub: the self...   \n",
       "1  17 customer reviews  Alex Rider is back in this brand new, explosiv...   \n",
       "2  29 customer reviews  Peter Guillam, staunch colleague and disciple ...   \n",
       "3  62 customer reviews  Your brother murdered your family. Your eviden...   \n",
       "4    1 customer review  'Brilliantly written and genuinely one of the ...   \n",
       "\n",
       "                               Genre               BookCategory       Price  \n",
       "0         Cinema & Broadcast (Books)                     Humour  722.122784  \n",
       "1         Action & Adventure (Books)         Action & Adventure  452.056867  \n",
       "2         Action & Adventure (Books)                   Politics  245.324959  \n",
       "3  Crime, Thriller & Mystery (Books)  Crime, Thriller & Mystery  348.231036  \n",
       "4           Earth Sciences Textbooks  Crime, Thriller & Mystery  191.579503  "
      ]
     },
     "execution_count": 72,
     "metadata": {},
     "output_type": "execute_result"
    }
   ],
   "source": [
    "test.head()"
   ]
  },
  {
   "cell_type": "markdown",
   "metadata": {},
   "source": [
    "### Thank You"
   ]
  }
 ],
 "metadata": {
  "kernelspec": {
   "display_name": "Python 3",
   "language": "python",
   "name": "python3"
  },
  "language_info": {
   "codemirror_mode": {
    "name": "ipython",
    "version": 3
   },
   "file_extension": ".py",
   "mimetype": "text/x-python",
   "name": "python",
   "nbconvert_exporter": "python",
   "pygments_lexer": "ipython3",
   "version": "3.7.4"
  }
 },
 "nbformat": 4,
 "nbformat_minor": 2
}
